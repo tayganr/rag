{
 "cells": [
  {
   "cell_type": "markdown",
   "metadata": {},
   "source": [
    "# 5. Evaluation and Comparison of RAG Setups"
   ]
  },
  {
   "cell_type": "markdown",
   "metadata": {},
   "source": [
    "## 5.1 Setup and Initialization"
   ]
  },
  {
   "cell_type": "code",
   "execution_count": 30,
   "metadata": {},
   "outputs": [],
   "source": [
    "import nest_asyncio\n",
    "nest_asyncio.apply()\n",
    "\n",
    "# Import necessary libraries  \n",
    "import os  \n",
    "import json  \n",
    "import pandas as pd  \n",
    "from dotenv import load_dotenv  \n",
    "from openai import AzureOpenAI  \n",
    "from azure.core.credentials import AzureKeyCredential  \n",
    "from azure.search.documents import SearchClient  \n",
    "from azure.search.documents.models import VectorizedQuery  \n",
    "import matplotlib.pyplot as plt  \n",
    "from datasets import Dataset  \n",
    "from ragas import evaluate  \n",
    "from ragas.metrics import AnswerRelevancy, AnswerSimilarity, ContextPrecision  \n",
    "  \n",
    "# Load environment variables from .env file  \n",
    "load_dotenv()  \n",
    "  \n",
    "# Get the Azure AI Search details from environment variables  \n",
    "azure_ai_search_service_name = os.getenv('AZURE_AI_SEARCH_SERVICE_NAME')  \n",
    "azure_ai_search_admin_key = os.getenv('AZURE_AI_SEARCH_ADMIN_KEY')  \n",
    "azure_ai_search_endpoint = f\"https://{azure_ai_search_service_name}.search.windows.net\"  \n",
    "azure_ai_search_credential = AzureKeyCredential(azure_ai_search_admin_key)  \n",
    "\n",
    "# Initialize the SearchClient  \n",
    "index_name = \"example-index\"  \n",
    "search_client = SearchClient(endpoint=azure_ai_search_endpoint, index_name=index_name, credential=azure_ai_search_credential)  \n",
    "  \n",
    "# Get the Azure OpenAI API details from environment variables  \n",
    "azure_openai_endpoint = os.getenv('AZURE_OPENAI_ENDPOINT')  \n",
    "azure_openai_key = os.getenv('AZURE_OPENAI_KEY')  \n",
    "azure_openai_embedding_model = os.getenv('AZURE_OPENAI_EMBEDDING_MODEL_NAME')  \n",
    "azure_openai_embedding_deployment = os.getenv('AZURE_OPENAI_EMBEDDING_DEPLOYMENT')  \n",
    "azure_openai_api_version = os.getenv('AZURE_OPENAI_API_VERSION')  \n",
    "azure_openai_chat_model_1 = 'gpt-4o'  \n",
    "azure_openai_chat_model_2 = 'gpt-35-turbo'  \n",
    "  \n",
    "# Initialize the Azure OpenAI Client for embedding API  \n",
    "embedding_client = AzureOpenAI(  \n",
    "    azure_deployment=azure_openai_embedding_deployment,  \n",
    "    api_version=azure_openai_api_version,  \n",
    "    azure_endpoint=azure_openai_endpoint,  \n",
    "    api_key=azure_openai_key  \n",
    ")  \n",
    "  \n",
    "# Initialize the Azure OpenAI Client for chat API  \n",
    "chat_client_1 = AzureOpenAI(  \n",
    "    azure_deployment=azure_openai_chat_model_1,  \n",
    "    api_version=azure_openai_api_version,  \n",
    "    azure_endpoint=azure_openai_endpoint,  \n",
    "    api_key=azure_openai_key  \n",
    ")  \n",
    "  \n",
    "chat_client_2 = AzureOpenAI(  \n",
    "    azure_deployment=azure_openai_chat_model_2,  \n",
    "    api_version=azure_openai_api_version,  \n",
    "    azure_endpoint=azure_openai_endpoint,  \n",
    "    api_key=azure_openai_key  \n",
    ")  "
   ]
  },
  {
   "cell_type": "markdown",
   "metadata": {},
   "source": [
    "## 5.2 Load Data"
   ]
  },
  {
   "cell_type": "code",
   "execution_count": 31,
   "metadata": {},
   "outputs": [],
   "source": [
    "# Load the JSON file containing question, contexts, and ground_truth  \n",
    "with open('evaluation_data.json', 'r', encoding='utf-8') as f:  \n",
    "    data = json.load(f)  "
   ]
  },
  {
   "cell_type": "markdown",
   "metadata": {},
   "source": [
    "## 5.3 Define Helper Functions"
   ]
  },
  {
   "cell_type": "code",
   "execution_count": 32,
   "metadata": {},
   "outputs": [],
   "source": [
    "# Function to retrieve context from indexed documents  \n",
    "def retrieve_context(query, client, search_client, top_k=3):  \n",
    "    embedding = get_embedding(query, client)  \n",
    "    vector_query = VectorizedQuery(vector=embedding, k_nearest_neighbors=top_k, fields=\"contentVector\")  \n",
    "    results = search_client.search(  \n",
    "        search_text=None,  \n",
    "        vector_queries=[vector_query],  \n",
    "        top=top_k  \n",
    "    )  \n",
    "    context = \"\"  \n",
    "    for result in results:  \n",
    "        context += result['content'] + \"\\n\"  \n",
    "    return context  \n",
    "  \n",
    "# Function to generate embeddings using Azure OpenAI API  \n",
    "def get_embedding(text, client):  \n",
    "    response = client.embeddings.create(input=text, model=azure_openai_embedding_model)  \n",
    "    return response.data[0].embedding  \n",
    "  \n",
    "# Function to generate answers using a specified RAG setup  \n",
    "def generate_answer(query, context, client, model_name):  \n",
    "    messages = [  \n",
    "        {\"role\": \"system\", \"content\": \"You are a knowledgeable assistant that provides accurate and helpful information.\"},  \n",
    "        {\"role\": \"user\", \"content\": query},  \n",
    "        {\"role\": \"assistant\", \"content\": context}  \n",
    "    ]  \n",
    "    response = client.chat.completions.create(  \n",
    "        model=model_name,  # Use the chat model specified  \n",
    "        messages=messages,  \n",
    "        max_tokens=150,  \n",
    "        n=1,  \n",
    "        stop=None,  \n",
    "        temperature=0.7  \n",
    "    )  \n",
    "    return response.choices[0].message.content.strip()  \n",
    "  \n",
    "# Function to prepare the dataset for evaluation  \n",
    "def prepare_dataset(questions, generated_answers, ground_truths, contexts):  \n",
    "    return {  \n",
    "        'question': questions,  \n",
    "        'answer': generated_answers,  \n",
    "        'ground_truth': ground_truths,  \n",
    "        'contexts': contexts  \n",
    "    }  \n",
    "\n",
    "from langchain_openai.chat_models import AzureChatOpenAI\n",
    "from langchain_openai.embeddings import AzureOpenAIEmbeddings\n",
    "\n",
    "azure_model = AzureChatOpenAI(\n",
    "    openai_api_version=azure_openai_api_version,\n",
    "    azure_endpoint=azure_openai_endpoint,\n",
    "    azure_deployment='gpt-4o',\n",
    "    model='gpt-4o',\n",
    "    validate_base_url=False,\n",
    "    api_key=azure_openai_key\n",
    ")\n",
    "\n",
    "# init the embeddings for answer_relevancy, answer_correctness and answer_similarity\n",
    "azure_embeddings = AzureOpenAIEmbeddings(\n",
    "    openai_api_version=azure_openai_api_version,\n",
    "    azure_endpoint=azure_openai_endpoint,\n",
    "    azure_deployment=azure_openai_embedding_deployment,\n",
    "    model=azure_openai_embedding_model,\n",
    "    api_key=azure_openai_key\n",
    ")\n",
    "  \n",
    "# Function to evaluate the generated answers using RAGAS library  \n",
    "def evaluate_answers(questions, generated_answers, ground_truths, contexts):  \n",
    "    dataset_dict = prepare_dataset(questions, generated_answers, ground_truths, contexts)  \n",
    "    dataset = Dataset.from_dict(dataset_dict)  \n",
    "    metrics = [  \n",
    "        AnswerRelevancy(),   \n",
    "        AnswerSimilarity(),   \n",
    "        ContextPrecision()  \n",
    "    ]  # Replace with actual metrics you want to use  \n",
    "    results = evaluate(\n",
    "        dataset=dataset, \n",
    "        metrics=metrics,\n",
    "        llm=azure_model,\n",
    "        embeddings=azure_embeddings\n",
    "    )\n",
    "\n",
    "    return results  "
   ]
  },
  {
   "cell_type": "markdown",
   "metadata": {},
   "source": [
    "## 5.4 Generate Answers"
   ]
  },
  {
   "cell_type": "code",
   "execution_count": 33,
   "metadata": {},
   "outputs": [],
   "source": [
    "# Generate AI answers using the first RAG setup (e.g., gpt-4)  \n",
    "generated_answers_1 = []  \n",
    "for question, context_list in zip(data['question'], data['contexts']):  \n",
    "    context = \" \".join(context_list)  # Combine all context strings into one  \n",
    "    answer = generate_answer(question, context, chat_client_1, azure_openai_chat_model_1)  \n",
    "    generated_answers_1.append(answer)  \n",
    "  \n",
    "# Generate AI answers using the second RAG setup (e.g., gpt-3.5)  \n",
    "generated_answers_2 = []  \n",
    "for question, context_list in zip(data['question'], data['contexts']):  \n",
    "    context = \" \".join(context_list)  # Combine all context strings into one  \n",
    "    answer = generate_answer(question, context, chat_client_2, azure_openai_chat_model_2)  \n",
    "    generated_answers_2.append(answer)  "
   ]
  },
  {
   "cell_type": "markdown",
   "metadata": {},
   "source": [
    "## 5.5 Evaluate and Compare"
   ]
  },
  {
   "cell_type": "code",
   "execution_count": 34,
   "metadata": {},
   "outputs": [
    {
     "name": "stderr",
     "output_type": "stream",
     "text": [
      "Evaluating: 100%|██████████| 192/192 [00:25<00:00,  7.42it/s]\n",
      "Evaluating: 100%|██████████| 192/192 [00:58<00:00,  3.29it/s]\n"
     ]
    }
   ],
   "source": [
    "# Evaluate the generated answers for both RAG setups  \n",
    "evaluations_1 = evaluate_answers(data['question'], generated_answers_1, data['ground_truth'], data['contexts'])  \n",
    "evaluations_2 = evaluate_answers(data['question'], generated_answers_2, data['ground_truth'], data['contexts'])  "
   ]
  },
  {
   "cell_type": "markdown",
   "metadata": {},
   "source": [
    "## 5.6 Visualize Results"
   ]
  },
  {
   "cell_type": "code",
   "execution_count": 38,
   "metadata": {},
   "outputs": [
    {
     "data": {
      "image/png": "[encoded data removed]",
      "text/plain": [
       "<Figure size 1000x600 with 1 Axes>"
      ]
     },
     "metadata": {},
     "output_type": "display_data"
    }
   ],
   "source": [
    "# Extract metrics and values\n",
    "metrics = list(evaluations_1.keys())\n",
    "values_1 = list(evaluations_1.values())\n",
    "values_2 = list(evaluations_2.values())\n",
    "\n",
    "# Plot the evaluation metrics for both RAG setups side-by-side for comparison\n",
    "x = range(len(metrics))\n",
    "width = 0.35\n",
    "\n",
    "fig, ax = plt.subplots(figsize=(10, 6))\n",
    "ax.bar(x, values_1, width, label='RAG Setup 1 (e.g., gpt-4)')\n",
    "ax.bar([p + width for p in x], values_2, width, label='RAG Setup 2 (e.g., gpt-3.5)')\n",
    "ax.set_xlabel('Metrics')\n",
    "ax.set_ylabel('Scores')\n",
    "ax.set_title('Comparison of RAG Setups')\n",
    "ax.set_xticks([p + width / 2 for p in x])\n",
    "ax.set_xticklabels(metrics)\n",
    "ax.set_ylim(0, max(max(values_1), max(values_2)) * 1.2)\n",
    "ax.legend()\n",
    "\n",
    "# Add values on top of the bars\n",
    "for i, v1, v2 in zip(x, values_1, values_2):\n",
    "    ax.text(i, v1, f\"{round(v1 * 100, 1)}%\", ha='center', va='bottom')\n",
    "    ax.text(i + width, v2, f\"{round(v2 * 100, 1)}%\", ha='center', va='bottom')\n",
    "\n",
    "# Show the plot\n",
    "plt.show()\n"
   ]
  }
 ],
 "metadata": {
  "kernelspec": {
   "display_name": "Python 3",
   "language": "python",
   "name": "python3"
  },
  "language_info": {
   "codemirror_mode": {
    "name": "ipython",
    "version": 3
   },
   "file_extension": ".py",
   "mimetype": "text/x-python",
   "name": "python",
   "nbconvert_exporter": "python",
   "pygments_lexer": "ipython3",
   "version": "3.12.3"
  }
 },
 "nbformat": 4,
 "nbformat_minor": 4
}

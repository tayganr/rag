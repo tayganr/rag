{
 "cells": [
  {
   "cell_type": "markdown",
   "metadata": {},
   "source": [
    "# 2. Azure AI Search: Indexing Chunked and Embedded Text\n",
    "\n",
    "In this notebook, we will use the chunked and embedded text generated in the previous notebook to create and populate an Azure AI Search index. This process involves initializing the search client, defining the index schema, creating the index, and uploading the documents."
   ]
  },
  {
   "cell_type": "markdown",
   "metadata": {},
   "source": [
    "## 2.1 Import Libraries and Load Environment Variables"
   ]
  },
  {
   "cell_type": "code",
   "execution_count": null,
   "metadata": {},
   "outputs": [],
   "source": [
    "# Import necessary libraries\n",
    "from azure.core.credentials import AzureKeyCredential\n",
    "from dotenv import load_dotenv\n",
    "import os\n",
    "import json\n",
    "import uuid\n",
    "  \n",
    "# Load environment variables from .env file\n",
    "load_dotenv()\n",
    "\n",
    "# Get the service name and admin key from environment variables\n",
    "service_name = os.getenv('AZURE_AI_SEARCH_SERVICE_NAME')\n",
    "admin_key = os.getenv('AZURE_AI_SEARCH_ADMIN_KEY')\n",
    "\n",
    "# Use the service name and admin key as before\n",
    "endpoint = f\"https://{service_name}.search.windows.net\"\n",
    "credential = AzureKeyCredential(admin_key)"
   ]
  },
  {
   "cell_type": "markdown",
   "metadata": {},
   "source": [
    "## 2.2 Initialize Azure AI Search Client"
   ]
  },
  {
   "cell_type": "code",
   "execution_count": null,
   "metadata": {},
   "outputs": [],
   "source": [
    "# Import the SearchIndexClient from Azure SDK  \n",
    "from azure.search.documents.indexes import SearchIndexClient  \n",
    "from azure.search.documents.indexes.models import (  \n",
    "    SimpleField, SearchFieldDataType, SearchableField, SearchField,  \n",
    "    VectorSearch, HnswAlgorithmConfiguration, VectorSearchProfile,  \n",
    "    SemanticConfiguration, SemanticPrioritizedFields, SemanticField,  \n",
    "    SemanticSearch, SearchIndex  \n",
    ")  \n",
    "  \n",
    "# Initialize the SearchIndexClient  \n",
    "index_client = SearchIndexClient(endpoint=endpoint, credential=credential)"
   ]
  },
  {
   "cell_type": "markdown",
   "metadata": {},
   "source": [
    "## 2.3 Define Index Schema"
   ]
  },
  {
   "cell_type": "code",
   "execution_count": null,
   "metadata": {},
   "outputs": [],
   "source": [
    "# Define the index schema  \n",
    "index_name = \"example-index\"  \n",
    "fields = [  \n",
    "    SimpleField(name=\"id\", type=SearchFieldDataType.String, key=True),  \n",
    "    SimpleField(name=\"title\", type=SearchFieldDataType.String),  \n",
    "    SimpleField(name=\"chunk_id\", type=SearchFieldDataType.String),  # Add chunk_id field  \n",
    "    SearchableField(name=\"content\", type=SearchFieldDataType.String),  \n",
    "    SearchField(name=\"contentVector\", type=SearchFieldDataType.Collection(SearchFieldDataType.Single), searchable=True, vector_search_dimensions=1536, vector_search_profile_name=\"myHnswProfile\")\n",
    "]  \n",
    "  \n",
    "# Configure the vector search configuration  \n",
    "vector_search = VectorSearch(  \n",
    "    algorithms=[  \n",
    "        HnswAlgorithmConfiguration(  \n",
    "            name=\"myHnsw\"  \n",
    "        )  \n",
    "    ],  \n",
    "    profiles=[  \n",
    "        VectorSearchProfile(  \n",
    "            name=\"myHnswProfile\",  \n",
    "            algorithm_configuration_name=\"myHnsw\",  \n",
    "        )  \n",
    "    ]  \n",
    ")  \n",
    "  \n",
    "# Define the semantic configuration  \n",
    "semantic_config = SemanticConfiguration(  \n",
    "    name=\"my-semantic-config\",  \n",
    "    prioritized_fields=SemanticPrioritizedFields(  \n",
    "        title_field=SemanticField(field_name=\"title\"),  \n",
    "        content_fields=[SemanticField(field_name=\"content\")]  \n",
    "    )  \n",
    ")  \n",
    "  \n",
    "# Create the semantic settings with the configuration  \n",
    "semantic_search = SemanticSearch(configurations=[semantic_config])  \n"
   ]
  },
  {
   "cell_type": "markdown",
   "metadata": {},
   "source": [
    "## 2.4 Drop Index if It Exists and Create Search Index"
   ]
  },
  {
   "cell_type": "code",
   "execution_count": null,
   "metadata": {},
   "outputs": [],
   "source": [
    "# Drop the index if it already exists  \n",
    "try:  \n",
    "    index_client.delete_index(index_name)  \n",
    "    print(f\"Index '{index_name}' deleted successfully.\")  \n",
    "except Exception as e:  \n",
    "    print(f\"Index '{index_name}' does not exist or could not be deleted: {e}\")  \n",
    "  \n",
    "# Create the search index with the semantic settings  \n",
    "index = SearchIndex(name=index_name, fields=fields, vector_search=vector_search, semantic_search=semantic_search)  \n",
    "result = index_client.create_or_update_index(index)  \n",
    "print(f\"Index '{index_name}' created successfully with vector search and semantic search configurations.\")  \n"
   ]
  },
  {
   "cell_type": "markdown",
   "metadata": {},
   "source": [
    "## 2.5 Load and Upload Chunked Data"
   ]
  },
  {
   "cell_type": "code",
   "execution_count": null,
   "metadata": {},
   "outputs": [],
   "source": [
    "# Import the SearchClient from Azure SDK  \n",
    "from azure.search.documents import SearchClient  \n",
    "  \n",
    "# Initialize the SearchClient  \n",
    "search_client = SearchClient(endpoint=endpoint, index_name=index_name, credential=credential)  \n",
    "  \n",
    "# Define the embeddings folder  \n",
    "embeddings_folder = 'embeddings'  \n",
    "  \n",
    "# Load JSON files from the embeddings folder  \n",
    "documents = []  \n",
    "for file_name in os.listdir(embeddings_folder):  \n",
    "    if file_name.endswith('.json'):  \n",
    "        with open(os.path.join(embeddings_folder, file_name), 'r', encoding='utf-8') as file:  \n",
    "            chunked_data = json.load(file)  \n",
    "            for chunk in chunked_data:  \n",
    "                document_id = str(uuid.uuid4())\n",
    "                documents.append({  \n",
    "                    \"id\": document_id,  \n",
    "                    \"title\": file_name.replace('.json', ''),  \n",
    "                    \"chunk_id\": str(chunk['chunk_id']),\n",
    "                    \"content\": chunk['chunk_text'],  \n",
    "                    \"contentVector\": chunk['chunk_embedding']\n",
    "                })  \n",
    "  \n",
    "# Upload the documents to the search index  \n",
    "result = search_client.upload_documents(documents=documents)  \n",
    "print(f\"Documents uploaded: {result}\")  \n"
   ]
  }
 ],
 "metadata": {
  "kernelspec": {
   "display_name": "env",
   "language": "python",
   "name": "python3"
  },
  "language_info": {
   "codemirror_mode": {
    "name": "ipython",
    "version": 3
   },
   "file_extension": ".py",
   "mimetype": "text/x-python",
   "name": "python",
   "nbconvert_exporter": "python",
   "pygments_lexer": "ipython3",
   "version": "3.12.3"
  }
 },
 "nbformat": 4,
 "nbformat_minor": 2
}

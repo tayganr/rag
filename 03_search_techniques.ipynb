{
 "cells": [
  {
   "cell_type": "markdown",
   "metadata": {},
   "source": [
    "# 3. Azure AI Search: Advanced Search Techniques  \n",
    "  \n",
    "In this notebook, we will demonstrate various ways to search the newly created and populated Azure AI Search index. We will explore different search techniques including keyword search, vector search, hybrid search (combining keyword and vector search), hybrid search with a semantic ranker, and filtered search. These techniques will help you leverage the full capabilities of Azure AI Search to retrieve relevant information from your indexed data.  "
   ]
  },
  {
   "cell_type": "markdown",
   "metadata": {},
   "source": [
    "# 3.1 Import Libraries and Load Environment Variables"
   ]
  },
  {
   "cell_type": "code",
   "execution_count": 30,
   "metadata": {},
   "outputs": [],
   "source": [
    "# Import necessary libraries  \n",
    "from azure.core.credentials import AzureKeyCredential  \n",
    "from dotenv import load_dotenv  \n",
    "from openai import AzureOpenAI  \n",
    "import os  \n",
    "import json  \n",
    "  \n",
    "# Load environment variables from .env file  \n",
    "load_dotenv()  \n",
    "  \n",
    "# Get the service name and admin key from environment variables  \n",
    "service_name = os.getenv('AZURE_SERVICE_NAME')  \n",
    "admin_key = os.getenv('AZURE_ADMIN_KEY')  \n",
    "  \n",
    "# Get the Azure OpenAI API details from environment variables  \n",
    "azure_openai_endpoint = os.getenv('AZURE_OPENAI_ENDPOINT')\n",
    "azure_openai_key = os.getenv('AZURE_OPENAI_KEY')\n",
    "azure_openai_embedding_model = os.getenv('AZURE_OPENAI_EMBEDDING_MODEL_NAME')\n",
    "azure_openai_embedding_deployment = os.getenv('AZURE_OPENAI_EMBEDDING_DEPLOYMENT')\n",
    "azure_openai_api_version = os.getenv('AZURE_OPENAI_API_VERSION')\n",
    "  \n",
    "# Use the service name and admin key as before  \n",
    "endpoint = f\"https://{service_name}.search.windows.net\"  \n",
    "credential = AzureKeyCredential(admin_key)  \n"
   ]
  },
  {
   "cell_type": "markdown",
   "metadata": {},
   "source": [
    "# 3.2 Initialize Azure AI Search and Azure OpenAI Clients"
   ]
  },
  {
   "cell_type": "code",
   "execution_count": 31,
   "metadata": {},
   "outputs": [],
   "source": [
    "# Import the SearchClient from Azure SDK  \n",
    "from azure.search.documents import SearchClient  \n",
    "from azure.search.documents.models import VectorizedQuery  \n",
    "  \n",
    "# Initialize the SearchClient  \n",
    "index_name = \"example-index\"  \n",
    "search_client = SearchClient(endpoint=endpoint, index_name=index_name, credential=credential)  \n",
    "  \n",
    "# Initialize the Azure OpenAI Client  \n",
    "client = AzureOpenAI(  \n",
    "    azure_deployment=azure_openai_embedding_deployment,  \n",
    "    api_version=azure_openai_api_version,  \n",
    "    azure_endpoint=azure_openai_endpoint,  \n",
    "    api_key=azure_openai_key  \n",
    ")  \n"
   ]
  },
  {
   "cell_type": "markdown",
   "metadata": {},
   "source": [
    "## 3.3 Function to Generate Embeddings"
   ]
  },
  {
   "cell_type": "code",
   "execution_count": 32,
   "metadata": {},
   "outputs": [],
   "source": [
    "# Function to generate embeddings using Azure OpenAI API  \n",
    "def get_embedding(text, client):  \n",
    "    response = client.embeddings.create(input=text, model=azure_openai_embedding_model)  \n",
    "    return response.data[0].embedding\n"
   ]
  },
  {
   "cell_type": "markdown",
   "metadata": {},
   "source": [
    "## 3.4 Keyword Search"
   ]
  },
  {
   "cell_type": "code",
   "execution_count": 33,
   "metadata": {},
   "outputs": [
    {
     "name": "stdout",
     "output_type": "stream",
     "text": [
      "Keyword Search Results:\n",
      "ID: 38994724-b8e0-4261-9b2a-445c1aabc5a1, Title: House of Commons 2024-05-24, Score: 15.526085, Content: House of Commons  Friday 24 May 2024  The House met at half-past Nine o’clock\n",
      "ID: ab985f7a-a3bd-4b26-b3bf-08e54eafe7fd, Title:  Valedictory Debate 2024-05-24, Score: 8.8596945, Content: It has been the honour of my life to serve as Colchester’s Member of Parliament for the past nine years, the last four and a half of which I have been a Government Minister at the Department for Work ...\n",
      "ID: 20e95ff9-9069-4e5a-91bf-982067148ffe, Title:  Valedictory Debate 2024-05-24, Score: 7.8185525, Content: I put on record my thanks to my constituents, who have been a source of comfort, support and enlightenment over the past nine years. I also thank my wonderful staff, past and present, who have been un...\n",
      "ID: b050cedc-e47d-46db-8560-521252efe446, Title:  Valedictory Debate 2024-05-24, Score: 5.9735227, Content: 31,000 emails or pieces of casework I have received over the last four and a half years.\n",
      "ID: 121a6b54-2790-4537-b9ce-81f4ee7096e1, Title:  Valedictory Debate 2024-05-24, Score: 5.917211, Content: That time in Government passed, and for the past nine years I have had the greatest privilege of my career in Parliament: to Chair the Justice Committee. The law has been central to my life and always...\n"
     ]
    }
   ],
   "source": [
    "# Perform a keyword search  \n",
    "search_text = \"half-past Nine\"  \n",
    "results = search_client.search(search_text=search_text, top=5)  \n",
    "  \n",
    "print(\"Keyword Search Results:\")  \n",
    "for result in results:  \n",
    "    truncated_content = result['content'][:200] + \"...\" if len(result['content']) > 200 else result['content']  \n",
    "    truncated_content = truncated_content.replace(\"\\n\", \" \")\n",
    "    print(f\"ID: {result['id']}, Title: {result['title']}, Score: {result['@search.score']}, Content: {truncated_content}\")  \n"
   ]
  },
  {
   "cell_type": "markdown",
   "metadata": {},
   "source": [
    "## 3.5 Vector Search"
   ]
  },
  {
   "cell_type": "code",
   "execution_count": 34,
   "metadata": {},
   "outputs": [
    {
     "name": "stdout",
     "output_type": "stream",
     "text": [
      "Vector Search Results:\n",
      "ID: c39349af-f0fa-4740-b247-63e63f8b95b0, Title:  Sanctions 2024-05-24, Score: 0.92085105, Content: Finally, we are also revoking the Burundi sanctions regime. That will remove an empty regime from the statute books. The decision in 2019 not to transpose into UK law designations under the original 2...\n",
      "ID: 3b3a71b7-f76f-4d3a-b7d7-06fa8e7368f2, Title:  Sanctions 2024-05-24, Score: 0.8837239, Content: UK financial sanctions.\n",
      "ID: eea57c89-238f-49b4-b30a-78c0a2b257a2, Title:  Sanctions 2024-05-24, Score: 0.86044437, Content: sanctions strategy, the Government keep their regimes under review and respond to changing circumstances. We are committed to lifting a regime out of a specific measure or revoking a designation when ...\n"
     ]
    }
   ],
   "source": [
    "# Perform a vector search  \n",
    "query = \"Why is the UK revoking the Burundi sanctions regime?\"  \n",
    "embedding = get_embedding(query, client)  \n",
    "vector_query = VectorizedQuery(vector=embedding, k_nearest_neighbors=3, fields=\"contentVector\")  \n",
    "  \n",
    "results = search_client.search(\n",
    "    search_text=None,  \n",
    "    vector_queries= [vector_query]\n",
    ")  \n",
    "  \n",
    "print(\"Vector Search Results:\")  \n",
    "for result in results:  \n",
    "    truncated_content = result['content'][:200] + \"...\" if len(result['content']) > 200 else result['content']  \n",
    "    truncated_content = truncated_content.replace(\"\\n\", \" \")\n",
    "    print(f\"ID: {result['id']}, Title: {result['title']}, Score: {result['@search.score']}, Content: {truncated_content}\")  \n"
   ]
  },
  {
   "cell_type": "markdown",
   "metadata": {},
   "source": [
    "## 3.6 Hybrid Search (Keyword and Vector)"
   ]
  },
  {
   "cell_type": "code",
   "execution_count": 35,
   "metadata": {},
   "outputs": [
    {
     "name": "stdout",
     "output_type": "stream",
     "text": [
      "Vector Search Results:\n",
      "ID: c39349af-f0fa-4740-b247-63e63f8b95b0, Title:  Sanctions 2024-05-24, Chunk 31,Score: 0.03333333507180214, Content: Finally, we are also revoking the Burundi sanctions regime. That will remove an empty regime from the statute books. The decision in 2019 not to transpose into UK law designations under the original 2...\n",
      "ID: eea57c89-238f-49b4-b30a-78c0a2b257a2, Title:  Sanctions 2024-05-24, Chunk 32,Score: 0.032258063554763794, Content: sanctions strategy, the Government keep their regimes under review and respond to changing circumstances. We are committed to lifting a regime out of a specific measure or revoking a designation when ...\n",
      "ID: 3b3a71b7-f76f-4d3a-b7d7-06fa8e7368f2, Title:  Sanctions 2024-05-24, Chunk 26,Score: 0.03109932318329811, Content: UK financial sanctions.\n"
     ]
    }
   ],
   "source": [
    "# Perform a hybrid search (combining keyword and vector search)  \n",
    "query = \"Why is the UK revoking the Burundi sanctions regime?\"  \n",
    "embedding = get_embedding(query, client)  \n",
    "vector_query = VectorizedQuery(vector=embedding, k_nearest_neighbors=3, fields=\"contentVector\")  \n",
    "  \n",
    "results = search_client.search(\n",
    "    search_text=query,  \n",
    "    vector_queries=[vector_query],\n",
    "    top=3\n",
    ")  \n",
    "  \n",
    "print(\"Vector Search Results:\")  \n",
    "for result in results:  \n",
    "    truncated_content = result['content'][:200] + \"...\" if len(result['content']) > 200 else result['content']  \n",
    "    truncated_content = truncated_content.replace(\"\\n\", \" \")\n",
    "    print(f\"ID: {result['id']}, Title: {result['title']}, Chunk {result['chunk_id']},Score: {result['@search.score']}, Content: {truncated_content}\")  \n"
   ]
  },
  {
   "cell_type": "markdown",
   "metadata": {},
   "source": [
    "## 3.7 Hybrid Search with Semantic Ranker"
   ]
  },
  {
   "cell_type": "code",
   "execution_count": 36,
   "metadata": {},
   "outputs": [
    {
     "name": "stdout",
     "output_type": "stream",
     "text": [
      "Hybrid Search with Semantic Ranker Results:\n",
      "ID: c39349af-f0fa-4740-b247-63e63f8b95b0, Title:  Sanctions 2024-05-24, Chunk 31,Score: 0.01666666753590107, Content: Finally, we are also revoking the Burundi sanctions regime. That will remove an empty regime from the statute books. The decision in 2019 not to transpose into UK law designations under the original 2...\n",
      "ID: eea57c89-238f-49b4-b30a-78c0a2b257a2, Title:  Sanctions 2024-05-24, Chunk 32,Score: 0.016129031777381897, Content: sanctions strategy, the Government keep their regimes under review and respond to changing circumstances. We are committed to lifting a regime out of a specific measure or revoking a designation when ...\n",
      "ID: 56dcf115-ab12-4229-975c-d097820495c9, Title:  Sanctions 2024-05-24, Chunk 97,Score: 0.012500000186264515, Content: thing—but there is still more to be done to ensure that sanctions regimes work appropriately, so that those people who should not be able to have directorships or ownership, or to money launder or mak...\n"
     ]
    }
   ],
   "source": [
    "# Perform a hybrid search with semantic ranker  \n",
    "from azure.search.documents.models import QueryType, QueryCaptionType, QueryAnswerType\n",
    "\n",
    "query = \"Why is the UK revoking the Burundi sanctions regime?\"  \n",
    "embedding = get_embedding(search_text, client)  \n",
    "vector_query = VectorizedQuery(vector=embedding, k_nearest_neighbors=3, fields=\"contentVector\")  \n",
    "\n",
    "results = search_client.search(\n",
    "    search_text=query, \n",
    "    vector_queries=[vector_query], \n",
    "    query_type=QueryType.SEMANTIC, \n",
    "    semantic_configuration_name='my-semantic-config', \n",
    "    query_caption=QueryCaptionType.EXTRACTIVE, \n",
    "    query_answer=QueryAnswerType.EXTRACTIVE,\n",
    "    top=3\n",
    ")\n",
    " \n",
    "print(\"Hybrid Search with Semantic Ranker Results:\")  \n",
    "for result in results:  \n",
    "    truncated_content = result['content'][:200] + \"...\" if len(result['content']) > 200 else result['content']  \n",
    "    truncated_content = truncated_content.replace(\"\\n\", \" \")\n",
    "    print(f\"ID: {result['id']}, Title: {result['title']}, Chunk {result['chunk_id']},Score: {result['@search.score']}, Content: {truncated_content}\")  \n"
   ]
  }
 ],
 "metadata": {
  "kernelspec": {
   "display_name": "env",
   "language": "python",
   "name": "python3"
  },
  "language_info": {
   "codemirror_mode": {
    "name": "ipython",
    "version": 3
   },
   "file_extension": ".py",
   "mimetype": "text/x-python",
   "name": "python",
   "nbconvert_exporter": "python",
   "pygments_lexer": "ipython3",
   "version": "3.12.3"
  }
 },
 "nbformat": 4,
 "nbformat_minor": 2
}

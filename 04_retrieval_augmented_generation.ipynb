{
 "cells": [
  {
   "cell_type": "markdown",
   "metadata": {},
   "source": [
    "# 4. Retrieval-Augmented Generation (RAG) with Azure OpenAI and Azure AI Search\n",
    "\n",
    "In this notebook, we will demonstrate how to implement a Retrieval-Augmented Generation (RAG) system. This involves embedding the question, retrieving relevant context from the indexed documents, augmenting the context with the question, and using a language model to generate an answer."
   ]
  },
  {
   "cell_type": "markdown",
   "metadata": {},
   "source": [
    "## 4.1 Import Libraries and Load Environment Variables"
   ]
  },
  {
   "cell_type": "code",
   "execution_count": null,
   "metadata": {},
   "outputs": [],
   "source": [
    "# Import necessary libraries\n",
    "from azure.core.credentials import AzureKeyCredential\n",
    "from dotenv import load_dotenv\n",
    "from openai import AzureOpenAI\n",
    "import os\n",
    "\n",
    "# Load environment variables from .env file\n",
    "load_dotenv()\n",
    "\n",
    "# Get the service name and admin key from environment variables\n",
    "service_name = os.getenv('AZURE_AI_SEARCH_SERVICE_NAME')\n",
    "admin_key = os.getenv('AZURE_AI_SEARCH_ADMIN_KEY')\n",
    "\n",
    "# Get the Azure OpenAI API details from environment variables\n",
    "azure_openai_endpoint = os.getenv('AZURE_OPENAI_ENDPOINT')\n",
    "azure_openai_key = os.getenv('AZURE_OPENAI_KEY')\n",
    "azure_openai_embedding_model = os.getenv('AZURE_OPENAI_EMBEDDING_MODEL_NAME')\n",
    "azure_openai_embedding_deployment = os.getenv('AZURE_OPENAI_EMBEDDING_DEPLOYMENT')\n",
    "azure_openai_api_version = os.getenv('AZURE_OPENAI_API_VERSION')\n",
    "azure_openai_chat_deployment = os.getenv('AZURE_OPENAI_CHAT_DEPLOYMENT')  \n",
    "azure_openai_chat_model = os.getenv('AZURE_OPENAI_CHAT_MODEL_NAME')  \n",
    "\n",
    "# Use the service name and admin key as before\n",
    "endpoint = f\"https://{service_name}.search.windows.net\"\n",
    "credential = AzureKeyCredential(admin_key)"
   ]
  },
  {
   "cell_type": "markdown",
   "metadata": {},
   "source": [
    "## 4.2 Initialize Azure AI Search and Azure OpenAI Clients"
   ]
  },
  {
   "cell_type": "code",
   "execution_count": null,
   "metadata": {},
   "outputs": [],
   "source": [
    "# Import the SearchClient from Azure SDK\n",
    "from azure.search.documents import SearchClient\n",
    "from azure.search.documents.models import VectorizedQuery\n",
    "\n",
    "# Initialize the SearchClient\n",
    "index_name = \"example-index\"\n",
    "search_client = SearchClient(endpoint=endpoint, index_name=index_name, credential=credential)\n",
    "\n",
    "# Initialize the Azure OpenAI Client for embedding API  \n",
    "embedding_client = AzureOpenAI(  \n",
    "    azure_deployment=azure_openai_embedding_deployment,  \n",
    "    api_version=azure_openai_api_version,  \n",
    "    azure_endpoint=azure_openai_endpoint,  \n",
    "    api_key=azure_openai_key  \n",
    ")  \n",
    "  \n",
    "# Initialize the Azure OpenAI Client for chat API  \n",
    "chat_client = AzureOpenAI(  \n",
    "    azure_deployment=azure_openai_chat_deployment,  \n",
    "    api_version=azure_openai_api_version,  \n",
    "    azure_endpoint=azure_openai_endpoint,  \n",
    "    api_key=azure_openai_key  \n",
    ")  \n"
   ]
  },
  {
   "cell_type": "markdown",
   "metadata": {},
   "source": [
    "## 4.3 Function to Generate Embeddings"
   ]
  },
  {
   "cell_type": "code",
   "execution_count": null,
   "metadata": {},
   "outputs": [],
   "source": [
    "# Function to generate embeddings using Azure OpenAI API  \n",
    "def get_embedding(text, client):  \n",
    "    response = client.embeddings.create(input=text, model=azure_openai_embedding_model)  \n",
    "    return response.data[0].embedding  \n"
   ]
  },
  {
   "cell_type": "markdown",
   "metadata": {},
   "source": [
    "## 4.4 Retrieve Context from Indexed Documents"
   ]
  },
  {
   "cell_type": "code",
   "execution_count": null,
   "metadata": {},
   "outputs": [],
   "source": [
    "# Function to retrieve context from indexed documents\n",
    "def retrieve_context(query, client, search_client, top_k=3):\n",
    "    embedding = get_embedding(query, client)\n",
    "    vector_query = VectorizedQuery(vector=embedding, k_nearest_neighbors=top_k, fields=\"contentVector\")\n",
    "    \n",
    "    results = search_client.search(\n",
    "        search_text=None,\n",
    "        vector_queries=[vector_query],\n",
    "        top=top_k\n",
    "    )\n",
    "    \n",
    "    context = \"\"\n",
    "    for result in results:\n",
    "        context += result['content'] + \"\\n\"\n",
    "    \n",
    "    return context"
   ]
  },
  {
   "cell_type": "markdown",
   "metadata": {},
   "source": [
    "## 4.5 Generate Answer using Augmented Context"
   ]
  },
  {
   "cell_type": "code",
   "execution_count": null,
   "metadata": {},
   "outputs": [],
   "source": [
    "# Function to generate answer using augmented context  \n",
    "def generate_answer(query, context, client):  \n",
    "    messages = [  \n",
    "        {\"role\": \"system\", \"content\": \"You are a knowledgeable assistant that provides accurate and helpful information.\"},  \n",
    "        {\"role\": \"user\", \"content\": query},  \n",
    "        {\"role\": \"assistant\", \"content\": context}  \n",
    "    ]  \n",
    "    response = client.chat.completions.create(  \n",
    "        model=azure_openai_chat_model,  # Use chat model  \n",
    "        messages=messages,  \n",
    "        max_tokens=150,  \n",
    "        n=1,  \n",
    "        stop=None,  \n",
    "        temperature=0.7  \n",
    "    )  \n",
    "    return response.choices[0].message.content.strip()  \n"
   ]
  },
  {
   "cell_type": "markdown",
   "metadata": {},
   "source": [
    "## 4.6 Example Usage of RAG"
   ]
  },
  {
   "cell_type": "code",
   "execution_count": null,
   "metadata": {},
   "outputs": [],
   "source": [
    "# Example usage  \n",
    "query = \"Why is the UK revoking the Burundi sanctions regime?\"  \n",
    "context = retrieve_context(query, embedding_client, search_client, top_k=3)  \n",
    "answer = generate_answer(query, context, chat_client)  \n",
    "  \n",
    "print(f\"Question: {query}\")  \n",
    "print(f\"Context: {context}\")  \n",
    "print(f\"Answer: {answer}\")  \n"
   ]
  },
  {
   "cell_type": "markdown",
   "metadata": {},
   "source": [
    "You can now use the RAG system to ask questions and get answers based on the context retrieved from your indexed documents."
   ]
  }
 ],
 "metadata": {
  "kernelspec": {
   "display_name": "Python 3",
   "language": "python",
   "name": "python3"
  },
  "language_info": {
   "codemirror_mode": {
    "name": "ipython",
    "version": 3
   },
   "file_extension": ".py",
   "mimetype": "text/x-python",
   "name": "python",
   "nbconvert_exporter": "python",
   "pygments_lexer": "ipython3",
   "version": "3.12.3"
  }
 },
 "nbformat": 4,
 "nbformat_minor": 5
}
